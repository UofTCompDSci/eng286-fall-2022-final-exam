{
 "cells": [
  {
   "cell_type": "markdown",
   "id": "eaeb7e68",
   "metadata": {},
   "source": [
    "<div style=\"text-align: center\">\n",
    "\n",
    "**UNIVERSITY OF TORONTO**\n",
    "\n",
    "**Faculty of Arts & Science**\n",
    "\n",
    "**FALL 2022 EXAMINATIONS**\n",
    "\n",
    "**ENG286H1F - Literature and Data**\n",
    "\n",
    "**Duration**: 3 hours\n",
    "\n",
    "**Aids Allowed**: You have access to Quercus, JupyterHub, and MarkUs. You may not consult any other references.\n",
    "\n",
    "</div>\n",
    "\n",
    "## Exam Reminders\n",
    "\n",
    "- As a student, you help create a fair and inclusive writing environment. If you possess an \n",
    "unauthorized aid during an exam, you may be charged with an academic offence.\n",
    "- Turn off and place all cell phones, smart watches, electronic devices, and unauthorized study materials in your bag under your desk. If it is left in your pocket, it may be an academic offence.\n",
    "- When you are done your exam, download the file and submit it to [MarkUs](https://markus-ds.teach.cs.toronto.edu) under the `final-exam` assignment. We have included submission instructions at the bottom of this notebook (same as past course work).\n",
    "    - **Note**: *Please give yourself at least 10 minutes to submit the final exam on time.*\n",
    "- All answers should be written in the provided cells in this notebook. You will *only* submit this notebook on MarkUs.\n",
    "\n",
    "## Quick Links\n",
    "\n",
    "- [ENG286 Quercus Course](https://q.utoronto.ca/courses/281141)\n",
    "- [MarkUs](https://markus-ds.teach.cs.toronto.edu)\n",
    "- [JupyterHub home page](https://jupyter.utoronto.ca)\n"
   ]
  },
  {
   "cell_type": "markdown",
   "id": "4eef33d9",
   "metadata": {},
   "source": [
    "# Part 1: Coding Exercises (10 points, ~40 minutes)\n",
    "\n",
    "Part 1 of the exam asks you to perform a variety of coding tasks."
   ]
  },
  {
   "cell_type": "markdown",
   "id": "e33d6eba",
   "metadata": {},
   "source": [
    "## Task 1 (0 points)\n",
    "\n",
    "Run the below starter code, which\n",
    "- Loads the libraries required for this exam, `TextBlob` and `pandas`.\n",
    "- Uses the `open` function's `.read()` method to open a text file of James Joyce's novel *A Portrait of the Artist as a Young Man* (`portrait.txt`) with UTF-8 encoding, storing this in a string variable named `portrait`."
   ]
  },
  {
   "cell_type": "code",
   "execution_count": null,
   "id": "9d57ecb7",
   "metadata": {},
   "outputs": [],
   "source": [
    "# Run this code cell. Do NOT change this code.\n",
    "\n",
    "from textblob import TextBlob\n",
    "import pandas as pd\n",
    "\n",
    "portrait = open(\"portrait.txt\", encoding=\"utf-8\").read()"
   ]
  },
  {
   "cell_type": "markdown",
   "id": "7740e8b7",
   "metadata": {},
   "source": [
    "## Task 2 (1 point)\n",
    "\n",
    "Count the number of characters (i.e., letters/numbers/symbols — not to be confused with characters like Stephen Dedalus, etc) in the `portrait` string and store the result in a variable named `portrait_characters`."
   ]
  },
  {
   "cell_type": "code",
   "execution_count": 1,
   "id": "f18590f3",
   "metadata": {},
   "outputs": [],
   "source": [
    "# Write your code here\n"
   ]
  },
  {
   "cell_type": "markdown",
   "id": "ffe95601",
   "metadata": {},
   "source": [
    "## Task 3 (1 point)\n",
    "\n",
    "Store the first ten characters of `portrait` in a variable named `portrait_first_ten`."
   ]
  },
  {
   "cell_type": "code",
   "execution_count": 2,
   "id": "4bc1a9f4",
   "metadata": {},
   "outputs": [],
   "source": [
    "# Write your code here\n"
   ]
  },
  {
   "cell_type": "markdown",
   "id": "379488e1",
   "metadata": {},
   "source": [
    "## Task 4 (1 point)\n",
    "\n",
    "Store the last ten characters of `portrait` in a variable named `portrait_last_ten`."
   ]
  },
  {
   "cell_type": "code",
   "execution_count": 3,
   "id": "725edde2",
   "metadata": {},
   "outputs": [],
   "source": [
    "# Write your code here\n"
   ]
  },
  {
   "cell_type": "markdown",
   "id": "63410179",
   "metadata": {},
   "source": [
    "## Task 5 (0 points)\n",
    "\n",
    "Run the below code cell, which\n",
    "- Runs the `TextBlob` function on `portrait` and stores the resulting TextBlob object in a variable named `portrait_blob`.\n",
    "- Calls TextBlob's `blob.sentences` method on `portrait_blob` and stores the output in a variable named `portait_sentences_blob`"
   ]
  },
  {
   "cell_type": "code",
   "execution_count": null,
   "id": "d86e897b",
   "metadata": {},
   "outputs": [],
   "source": [
    "# Run this code cell. Do NOT change this code.\n",
    "\n",
    "portrait_blob = TextBlob(portrait)\n",
    "portrait_sentences_blob = portrait_blob.sentences"
   ]
  },
  {
   "cell_type": "markdown",
   "id": "f2a5f98c",
   "metadata": {},
   "source": [
    "## Task 6 (2 points)\n",
    "\n",
    "Create an empty list named `portrait_sentences`. \n",
    "\n",
    "Iterate through the TextBlob sentence objects in `portrait_sentences_blob`. For each sentence object, use Python's `\" \".join()` method to join the individual words of each sentence objects (these words can be accessed through TextBlob's `blob.words` method). The result of this `\" \".join()` command will be a Python string.\n",
    "\n",
    "As you iterate through `portrait_sentences_blob`, add each of these strings to the `portrait_sentences` list."
   ]
  },
  {
   "cell_type": "code",
   "execution_count": 5,
   "id": "aeadf453",
   "metadata": {},
   "outputs": [],
   "source": [
    "# Write your code here\n"
   ]
  },
  {
   "cell_type": "markdown",
   "id": "9aab6227",
   "metadata": {},
   "source": [
    "## Task 7 (2 points)\n",
    "\n",
    "Create an empty list named `portrait_polarities`. \n",
    "\n",
    "Iterate through the TextBlob sentence objects in `portrait_sentences_blob`. For each sentence object, use TextBlob's `blob.polarity` method to extract the sentiment polarity for that sentence object. Each of these sentiment polarity values will be a Python floating point number.\n",
    "\n",
    "As you iterate through `portrait_sentences_blob`, add each of these floating point numbers to `portrait_polarities`."
   ]
  },
  {
   "cell_type": "code",
   "execution_count": 6,
   "id": "91946fd6",
   "metadata": {},
   "outputs": [],
   "source": [
    "# Write your code here\n"
   ]
  },
  {
   "attachments": {},
   "cell_type": "markdown",
   "id": "4ab839ca",
   "metadata": {},
   "source": [
    "## Task 8 (1 point)\n",
    "\n",
    "Use Pandas's `pd.DataFrame()` method to create a Pandas DataFrame named `portrait_sentiment_df`. It should contain two columns: `sentence` and `polarity`. The `sentence` column should contain the values from the `portrait_sentences` variable created above and the `polarity` column should contain the values from the `portrait_polarities` variable created above. "
   ]
  },
  {
   "cell_type": "code",
   "execution_count": 7,
   "id": "4c04e281",
   "metadata": {},
   "outputs": [],
   "source": [
    "# Write your code here\n"
   ]
  },
  {
   "cell_type": "markdown",
   "id": "3f496f8e",
   "metadata": {},
   "source": [
    "## Task 9 (1 point)\n",
    "\n",
    "Use the Pandas methods `df.rolling(window=x, center=True)` and `df.mean()` to add a new column to `portrait_sentiment_df`.\n",
    "\n",
    "The column should be named `rolling_225_polarity` and should contain rolling average values for the `polarity` column, with a window size of **225**. Be sure to include the `center=True` parameter for the `df.rolling()` method."
   ]
  },
  {
   "cell_type": "code",
   "execution_count": 8,
   "id": "e854f571",
   "metadata": {},
   "outputs": [],
   "source": [
    "# Write your code here\n"
   ]
  },
  {
   "cell_type": "markdown",
   "id": "0469c722",
   "metadata": {},
   "source": [
    "## Task 10 (1 point)\n",
    "\n",
    "Using Pandas's `df.plot()` method, create a plot of the values of the `rolling_225_polarity` column of the `portrait_sentiment_df` DataFrame. For the purposes of autograding, the plot should have no title and a `figsize` of `(20,8)`. Store this plot in a variable named `rolling_225_plot`."
   ]
  },
  {
   "cell_type": "code",
   "execution_count": 9,
   "id": "a7138743",
   "metadata": {},
   "outputs": [],
   "source": [
    "# Write your code here\n"
   ]
  },
  {
   "cell_type": "markdown",
   "id": "f3b7993c",
   "metadata": {},
   "source": [
    "### Checking your work\n",
    "\n",
    "You can uncomment (i.e., delete the leading `#`) each of the following `print` calls below and run the cell to check your work. In particular, this will check that you've named each of your variables/columns correctly (important for autograding!)."
   ]
  },
  {
   "cell_type": "code",
   "execution_count": null,
   "id": "f0a6f5b5",
   "metadata": {},
   "outputs": [],
   "source": [
    "#print(portrait_characters)\n",
    "\n",
    "#print(portrait_first_ten)\n",
    "\n",
    "#print(portrait_last_ten)\n",
    "\n",
    "#print(portrait_sentences[:10])  # Just display the first 10, since there are a lot!\n",
    "\n",
    "#print(portrait_polarities[:10])\n",
    "\n",
    "#print(portrait_sentiment_df[['sentence', 'polarity']])  # This checks both the variable and column names\n",
    "\n",
    "#print(portrait_sentiment_df['rolling_225_polarity'][300:310])\n",
    "\n",
    "#print(type(rolling_225_plot))  # Should be <class 'matplotlib.axes._subplots.AxesSubplot'>"
   ]
  },
  {
   "cell_type": "markdown",
   "id": "ac0e5fdf",
   "metadata": {},
   "source": [
    "# Part 2: Code Rationale (15 points; ~1 hour)\n",
    "\n",
    "This section consists of short answer questions relating to the code from Part 1. Leave your written answers in the Markdown cells below each question. Write in full sentences."
   ]
  },
  {
   "cell_type": "markdown",
   "id": "95d0223b",
   "metadata": {},
   "source": [
    "## Question 1 (3 points)\n",
    "\n",
    "What does Python's `list.append()` method do? What are we using it for in Task 6 above?"
   ]
  },
  {
   "cell_type": "markdown",
   "id": "55336e9d",
   "metadata": {},
   "source": [
    "**(Delete this text and write your answer here.)**"
   ]
  },
  {
   "cell_type": "markdown",
   "id": "e15e5fa2",
   "metadata": {},
   "source": [
    "## Question 2 (3 points)\n",
    "\n",
    "In Task 8 above, what Python data type do we supply as an argument to `pd.DataFrame()` to create a new Pandas DataFrame? Comparing that data type to one other Python data type, explain what distinguishes the two data types."
   ]
  },
  {
   "cell_type": "markdown",
   "id": "79278d83",
   "metadata": {},
   "source": [
    "**(Delete this text and write your answer here.)**"
   ]
  },
  {
   "cell_type": "markdown",
   "id": "2cd0915f",
   "metadata": {},
   "source": [
    "## Question 3 (3 points)\n",
    "\n",
    "What is the difference between a TextBlob object (like the `portrait_blob` variable created in Task 5 above) and a string (like the `portrait` variable created in Task 1 above)?"
   ]
  },
  {
   "cell_type": "markdown",
   "id": "a15b5dee",
   "metadata": {},
   "source": [
    "**(Delete this text and write your answer here.)**"
   ]
  },
  {
   "cell_type": "markdown",
   "id": "b55c2ca5",
   "metadata": {},
   "source": [
    "## Question 4 (3 points)\n",
    "\n",
    "What does the output of TextBlob's `blob.polarity` tell us? What is the range of possible values? What does a high score mean? What does a low score mean? How, in general terms, is this polarity score determined?"
   ]
  },
  {
   "cell_type": "markdown",
   "id": "9259324a",
   "metadata": {},
   "source": [
    "**(Delete this text and write your answer here.)**"
   ]
  },
  {
   "cell_type": "markdown",
   "id": "4eb11c5e",
   "metadata": {},
   "source": [
    "## Question 5 (3 points)\n",
    "\n",
    "What is the purpose of creating the rolling average column for sentiment polarity values (see Task 9 above)? What is the difference between a rolling window of size 225, as created, and one of size 25?"
   ]
  },
  {
   "cell_type": "markdown",
   "id": "6e091eb7",
   "metadata": {},
   "source": [
    "**(Delete this text and write your answer here.)**"
   ]
  },
  {
   "cell_type": "markdown",
   "id": "a31b5b0f",
   "metadata": {},
   "source": [
    "# Part 3: Essay (15 points; ~1 hour)\n",
    "\n",
    "Drawing on **at least one course reading** AND **at least one dataset discussed in lecture**, write a short essay that answers the following question:\n",
    "\n",
    "**Does Data Science analysis of literary texts reveal anything new about them, or just confirm what we already know about them?**\n",
    "\n",
    "Write in paragraphs and full sentences. Do not use point form."
   ]
  },
  {
   "cell_type": "markdown",
   "id": "5e239fdb",
   "metadata": {},
   "source": [
    "**(Delete this text and write your answer here.)**"
   ]
  },
  {
   "cell_type": "markdown",
   "id": "bca7e329",
   "metadata": {},
   "source": [
    "## How to Submit the Final Exam\n",
    "\n",
    "1. Download this notebook to your computer and save it as `final_exam.ipynb`.\n",
    "2. Log in here: https://markus-ds.teach.cs.toronto.edu.\n",
    "3. Submit the downloaded file to `final-exam: Final Exam`."
   ]
  }
 ],
 "metadata": {
  "kernelspec": {
   "display_name": "Python 3 (ipykernel)",
   "language": "python",
   "name": "python3"
  },
  "language_info": {
   "codemirror_mode": {
    "name": "ipython",
    "version": 3
   },
   "file_extension": ".py",
   "mimetype": "text/x-python",
   "name": "python",
   "nbconvert_exporter": "python",
   "pygments_lexer": "ipython3",
   "version": "3.10.5 (tags/v3.10.5:f377153, Jun  6 2022, 16:14:13) [MSC v.1929 64 bit (AMD64)]"
  },
  "vscode": {
   "interpreter": {
    "hash": "901b79e026e03396fd1ffa7133844e9ea80e258ce34c66e1aabb5896bcb18463"
   }
  }
 },
 "nbformat": 4,
 "nbformat_minor": 5
}
